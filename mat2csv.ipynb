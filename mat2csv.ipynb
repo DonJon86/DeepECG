{
 "cells": [
  {
   "cell_type": "code",
   "execution_count": 8,
   "metadata": {},
   "outputs": [],
   "source": [
    "import scipy.io as sio\n",
    "import os\n",
    "import sys"
   ]
  },
  {
   "cell_type": "code",
   "execution_count": 31,
   "metadata": {},
   "outputs": [],
   "source": [
    "PATH= \"/Users/truongnm/coding/cnn/ecg/ecg-process/raw/A00004.mat\"\n",
    "# PATH = sys.argv[1]\n",
    "output_folder = os.path.dirname(PATH)\n",
    "output_filename = os.path.splitext(os.path.basename(PATH))[0]\n",
    "output_path = output_folder + \"/\" + output_filename + \".csv\"\n",
    "mat_struct = sio.loadmat(PATH)"
   ]
  },
  {
   "cell_type": "code",
   "execution_count": 32,
   "metadata": {},
   "outputs": [],
   "source": [
    "with open(output_path, 'w+') as f:\n",
    "    for index, value in enumerate(mat_struct['val'][0]):        \n",
    "        f.write('{0},{1}\\n'.format(index*0.004, value))"
   ]
  },
  {
   "cell_type": "code",
   "execution_count": 67,
   "metadata": {},
   "outputs": [],
   "source": [
    "PATH = \"/Users/truongnm/coding/cnn/ecg/ecg-process/raw/A00004-convertedm.mat\"\n",
    "mat_struct1 = sio.loadmat(PATH)"
   ]
  },
  {
   "cell_type": "code",
   "execution_count": 68,
   "metadata": {},
   "outputs": [
    {
     "data": {
      "text/plain": [
       "{'__header__': b'MATLAB 5.0',\n",
       " '__version__': '1.0',\n",
       " '__globals__': [],\n",
       " 'val': array([[519, 619, 723, ..., 116,  17,  18]], dtype=int16)}"
      ]
     },
     "execution_count": 68,
     "metadata": {},
     "output_type": "execute_result"
    }
   ],
   "source": [
    "mat_struct1"
   ]
  },
  {
   "cell_type": "code",
   "execution_count": 56,
   "metadata": {},
   "outputs": [],
   "source": [
    "PATH = \"/Users/truongnm/coding/cnn/ecg/ecg-process/raw/A00004.mat\"\n",
    "mat_struct2 = sio.loadmat(PATH)"
   ]
  },
  {
   "cell_type": "code",
   "execution_count": 57,
   "metadata": {},
   "outputs": [
    {
     "data": {
      "text/plain": [
       "9000"
      ]
     },
     "execution_count": 57,
     "metadata": {},
     "output_type": "execute_result"
    }
   ],
   "source": [
    "mat_struct2['val'][0].size"
   ]
  },
  {
   "cell_type": "code",
   "execution_count": null,
   "metadata": {},
   "outputs": [],
   "source": []
  }
 ],
 "metadata": {
  "kernelspec": {
   "display_name": "Python 3",
   "language": "python",
   "name": "python3"
  },
  "language_info": {
   "codemirror_mode": {
    "name": "ipython",
    "version": 3
   },
   "file_extension": ".py",
   "mimetype": "text/x-python",
   "name": "python",
   "nbconvert_exporter": "python",
   "pygments_lexer": "ipython3",
   "version": "3.6.5"
  }
 },
 "nbformat": 4,
 "nbformat_minor": 2
}
