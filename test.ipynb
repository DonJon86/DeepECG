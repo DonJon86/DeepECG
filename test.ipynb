{
 "cells": [
  {
   "cell_type": "code",
   "execution_count": 1,
   "metadata": {},
   "outputs": [
    {
     "name": "stderr",
     "output_type": "stream",
     "text": [
      "/anaconda3/envs/tensorflow/lib/python3.6/site-packages/h5py/__init__.py:36: FutureWarning: Conversion of the second argument of issubdtype from `float` to `np.floating` is deprecated. In future, it will be treated as `np.float64 == np.dtype(float).type`.\n",
      "  from ._conv import register_converters as _register_converters\n",
      "/anaconda3/envs/tensorflow/lib/python3.6/site-packages/dicom/__init__.py:53: UserWarning: \n",
      "This code is using an older version of pydicom, which is no longer \n",
      "maintained as of Jan 2017.  You can access the new pydicom features and API \n",
      "by installing `pydicom` from PyPI.\n",
      "See 'Transitioning to pydicom 1.x' section at pydicom.readthedocs.org \n",
      "for more information.\n",
      "\n",
      "  warnings.warn(msg)\n",
      "Using TensorFlow backend.\n"
     ]
    }
   ],
   "source": [
    "import os\n",
    "import sys\n",
    "from functools import partial\n",
    "\n",
    "import numpy as np\n",
    "import tensorflow as tf\n",
    "from scipy.stats import beta\n",
    "\n",
    "sys.path.append(os.path.join(\"..\", \"..\", \"..\"))\n",
    "import cardio.dataset as ds\n",
    "from cardio import EcgDataset\n",
    "from cardio.dataset import B, V, F\n",
    "from cardio.models.dirichlet_model import DirichletModel, concatenate_ecg_batch\n",
    "from cardio.models.metrics import f1_score, classification_report, confusion_matrix"
   ]
  },
  {
   "cell_type": "code",
   "execution_count": 2,
   "metadata": {},
   "outputs": [],
   "source": [
    "MODEL_PATH = os.path.expanduser(\"~\")+\"/coding/cnn/DeepECG/dirichlet_model\"\n",
    "\n",
    "BATCH_SIZE = 100"
   ]
  },
  {
   "cell_type": "code",
   "execution_count": 3,
   "metadata": {},
   "outputs": [],
   "source": [
    "gpu_options = tf.GPUOptions(per_process_gpu_memory_fraction=0.5, allow_growth=True)\n",
    "\n",
    "model_config = {\n",
    "    \"session\": {\"config\": tf.ConfigProto(gpu_options=gpu_options)},\n",
    "    \"build\": False,\n",
    "    \"load\": {\"path\": MODEL_PATH},\n",
    "}"
   ]
  },
  {
   "cell_type": "code",
   "execution_count": 4,
   "metadata": {},
   "outputs": [
    {
     "name": "stdout",
     "output_type": "stream",
     "text": [
      "INFO:tensorflow:Restoring parameters from /Users/truongnm/coding/cnn/DeepECG/dirichlet_model/model-26000\n"
     ]
    }
   ],
   "source": [
    "template_predict_ppl = (\n",
    "    ds.Pipeline()\n",
    "      .init_model(\"static\", DirichletModel, name=\"dirichlet\", config=model_config)\n",
    "      .init_variable(\"predictions_list\", init_on_each_run=list)\n",
    "      .load(fmt=\"wfdb\", components=[\"signal\", \"meta\"])\n",
    "      .flip_signals()\n",
    "      .split_signals(2048, 2048)\n",
    "      .predict_model(\"dirichlet\", make_data=partial(concatenate_ecg_batch, return_targets=False),\n",
    "                     fetches=\"predictions\", save_to=V(\"predictions_list\"), mode=\"e\")\n",
    "      .run(batch_size=BATCH_SIZE, shuffle=False, drop_last=False, n_epochs=1, lazy=True)\n",
    ")"
   ]
  },
  {
   "cell_type": "markdown",
   "metadata": {},
   "source": [
    "Original file"
   ]
  },
  {
   "cell_type": "code",
   "execution_count": 5,
   "metadata": {},
   "outputs": [],
   "source": [
    "signal_path = os.path.expanduser(\"~\")+\"/coding/cnn/DeepECG/raw/A00001.mat\"\n",
    "predict_eds = EcgDataset(path=signal_path, no_ext=True, sort=True)\n",
    "predict_ppl = (predict_eds >> template_predict_ppl).run()"
   ]
  },
  {
   "cell_type": "code",
   "execution_count": 6,
   "metadata": {},
   "outputs": [
    {
     "data": {
      "text/plain": [
       "[{'target_pred': {'A': 0.021257801, 'NO': 0.97874224},\n",
       "  'uncertainty': 0.007573604583740234}]"
      ]
     },
     "execution_count": 6,
     "metadata": {},
     "output_type": "execute_result"
    }
   ],
   "source": [
    "predict_ppl.get_variable(\"predictions_list\")"
   ]
  },
  {
   "cell_type": "markdown",
   "metadata": {},
   "source": [
    "MAT -> csv: `python mat2csv.py \"raw/A00001.mat\"`\n",
    "\n",
    "-> full signal: `wrsamp -i raw/A00001.csv -o raw/A00001-converted -G 1000 -F 300 -z`\n",
    "\n",
    "-> MAT file: `wfdb2mat -r raw/A00001-converted` and move output files to raw folder"
   ]
  },
  {
   "cell_type": "code",
   "execution_count": 7,
   "metadata": {},
   "outputs": [],
   "source": [
    "signal_path = os.path.expanduser(\"~\")+\"/coding/cnn/DeepECG/raw/A00001-convertedm.hea\"\n",
    "predict_eds = EcgDataset(path=signal_path, no_ext=True, sort=True)\n",
    "predict_ppl = (predict_eds >> template_predict_ppl).run()"
   ]
  },
  {
   "cell_type": "code",
   "execution_count": 8,
   "metadata": {},
   "outputs": [
    {
     "data": {
      "text/plain": [
       "[{'target_pred': {'A': 0.021257801, 'NO': 0.97874224},\n",
       "  'uncertainty': 0.007573604583740234}]"
      ]
     },
     "execution_count": 8,
     "metadata": {},
     "output_type": "execute_result"
    }
   ],
   "source": [
    "predict_ppl.get_variable(\"predictions_list\")"
   ]
  },
  {
   "cell_type": "markdown",
   "metadata": {},
   "source": [
    "DB MAT file -> csv -> full signal\n",
    "\n",
    "-> signal: `wrsamp -i raw/A00001.csv -o raw/A00001-converted-1s -G 1000 -F 300 -z -t 250`\n",
    "\n",
    "-> MAT file: `wfdb2mat -r raw/A00001-converted-1s` and move output files to raw folder\n",
    "\n",
    "-> test: "
   ]
  },
  {
   "cell_type": "code",
   "execution_count": 10,
   "metadata": {},
   "outputs": [],
   "source": [
    "signal_path = os.path.expanduser(\"~\")+\"/coding/cnn/DeepECG/raw/A00001-converted-1sm.hea\"\n",
    "predict_eds = EcgDataset(path=signal_path, no_ext=True, sort=True)\n",
    "predict_ppl = (predict_eds >> template_predict_ppl).run()"
   ]
  },
  {
   "cell_type": "code",
   "execution_count": 11,
   "metadata": {},
   "outputs": [
    {
     "data": {
      "text/plain": [
       "[{'target_pred': {'A': 0.021675928, 'NO': 0.97832406},\n",
       "  'uncertainty': 0.0073926448822021484}]"
      ]
     },
     "execution_count": 11,
     "metadata": {},
     "output_type": "execute_result"
    }
   ],
   "source": [
    "predict_ppl.get_variable(\"predictions_list\")"
   ]
  },
  {
   "cell_type": "markdown",
   "metadata": {},
   "source": [
    "DB MAT file -> csv -> full signal (same above)\n",
    "\n",
    "-> csv 250 lines (1s): `wrsamp -i raw/A00001.csv -o raw/A00001-converted-1s -G 1000 -F 300 -z -t 250`\n",
    "\n",
    "-> gnuplot image - this can be image received from user: \n",
    "```\n",
    "gnuplot -e \"fileIn='raw/A00001-converted-1s.csv'; fileOut='raw/A00001-converted-1s.png'\" csv2img.gnuplot\n",
    "```\n",
    "\n",
    "-> csv: `python img2csv.py \"/Users/truongnm/coding/cnn/ecg/ecg-process/raw/A00001-converted-1s.png\"`\n",
    "\n",
    "-> signal: `wrsamp -i raw/A00001-converted-1s-from-user.csv -o raw/A00001-converted-1s-from-user -G 1000 -F 300 -z`\n",
    "\n",
    "-> MAT: `wfdb2mat -r raw/A00001-converted-1s-from-user`\n",
    "\n",
    "-> test:"
   ]
  },
  {
   "cell_type": "code",
   "execution_count": 12,
   "metadata": {},
   "outputs": [],
   "source": [
    "signal_path = os.path.expanduser(\"~\")+\"/coding/cnn/DeepECG/raw/A00001-converted-1s-from-userm.hea\"\n",
    "predict_eds = EcgDataset(path=signal_path, no_ext=True, sort=True)\n",
    "predict_ppl = (predict_eds >> template_predict_ppl).run()"
   ]
  },
  {
   "cell_type": "code",
   "execution_count": 13,
   "metadata": {
    "scrolled": true
   },
   "outputs": [
    {
     "data": {
      "text/plain": [
       "[{'target_pred': {'A': 0.021675965, 'NO': 0.978324},\n",
       "  'uncertainty': 0.00739288330078125}]"
      ]
     },
     "execution_count": 13,
     "metadata": {},
     "output_type": "execute_result"
    }
   ],
   "source": [
    "predict_ppl.get_variable(\"predictions_list\")"
   ]
  },
  {
   "cell_type": "markdown",
   "metadata": {},
   "source": [
    "### Test with another patient"
   ]
  },
  {
   "cell_type": "markdown",
   "metadata": {},
   "source": [
    "Original file"
   ]
  },
  {
   "cell_type": "code",
   "execution_count": 14,
   "metadata": {},
   "outputs": [],
   "source": [
    "signal_path = os.path.expanduser(\"~\")+\"/coding/cnn/DeepECG/raw/A00004.hea\"\n",
    "predict_eds = EcgDataset(path=signal_path, no_ext=True, sort=True)\n",
    "predict_ppl = (predict_eds >> template_predict_ppl).run()"
   ]
  },
  {
   "cell_type": "code",
   "execution_count": 15,
   "metadata": {},
   "outputs": [
    {
     "data": {
      "text/plain": [
       "[{'target_pred': {'A': 0.71521246, 'NO': 0.2847875},\n",
       "  'uncertainty': 0.5845246315002441}]"
      ]
     },
     "execution_count": 15,
     "metadata": {},
     "output_type": "execute_result"
    }
   ],
   "source": [
    "predict_ppl.get_variable(\"predictions_list\")"
   ]
  },
  {
   "cell_type": "markdown",
   "metadata": {},
   "source": [
    "MAT -> csv: `python mat2csv.py \"raw/A00004.mat\"`\n",
    "\n",
    "-> full signal: `wrsamp -i raw/A00004.csv -o raw/A00004-converted -G 1000 -F 300 -z`\n",
    "\n",
    "-> MAT file: `wfdb2mat -r raw/A00004-converted` and move output files to raw folder"
   ]
  },
  {
   "cell_type": "code",
   "execution_count": 16,
   "metadata": {},
   "outputs": [],
   "source": [
    "signal_path = os.path.expanduser(\"~\")+\"/coding/cnn/DeepECG/raw/A00004-convertedm.hea\"\n",
    "predict_eds = EcgDataset(path=signal_path, no_ext=True, sort=True)\n",
    "predict_ppl = (predict_eds >> template_predict_ppl).run()"
   ]
  },
  {
   "cell_type": "code",
   "execution_count": 17,
   "metadata": {},
   "outputs": [
    {
     "data": {
      "text/plain": [
       "[{'target_pred': {'A': 0.71521246, 'NO': 0.2847875},\n",
       "  'uncertainty': 0.5845246315002441}]"
      ]
     },
     "execution_count": 17,
     "metadata": {},
     "output_type": "execute_result"
    }
   ],
   "source": [
    "predict_ppl.get_variable(\"predictions_list\")"
   ]
  },
  {
   "cell_type": "markdown",
   "metadata": {},
   "source": [
    "DB MAT file -> csv -> full signal (same above)\n",
    "\n",
    "-> signal for 1s: `wrsamp -i raw/A00004.csv -o raw/A00004-converted-1s -G 1000 -F 300 -z -t 250`\n",
    "\n",
    "-> MAT file: `wfdb2mat -r raw/A00004-converted-1s` and move output files to raw folder\n",
    "\n",
    "-> test: "
   ]
  },
  {
   "cell_type": "code",
   "execution_count": 18,
   "metadata": {},
   "outputs": [],
   "source": [
    "signal_path = os.path.expanduser(\"~\")+\"/coding/cnn/DeepECG/raw/A00004-converted-1sm.hea\"\n",
    "predict_eds = EcgDataset(path=signal_path, no_ext=True, sort=True)\n",
    "predict_ppl = (predict_eds >> template_predict_ppl).run()"
   ]
  },
  {
   "cell_type": "code",
   "execution_count": 19,
   "metadata": {},
   "outputs": [
    {
     "data": {
      "text/plain": [
       "[{'target_pred': {'A': 0.02360226, 'NO': 0.97639775},\n",
       "  'uncertainty': 0.008587837219238281}]"
      ]
     },
     "execution_count": 19,
     "metadata": {},
     "output_type": "execute_result"
    }
   ],
   "source": [
    "predict_ppl.get_variable(\"predictions_list\")"
   ]
  },
  {
   "cell_type": "markdown",
   "metadata": {},
   "source": [
    "If the input was 30 seconds, this patient got AFib. But if the input reduced to 1s, our network consider this patient is normal. Or at least from 0s to 1s, nothing abnormal in ECG."
   ]
  },
  {
   "cell_type": "markdown",
   "metadata": {},
   "source": [
    "DB MAT file -> csv -> full signal (same above)\n",
    "\n",
    "-> signal for 1s: `wrsamp -i raw/A00004.csv -o raw/A00004-converted-1s -G 1000 -F 300 -z -t 250`\n",
    "\n",
    "-> csv: `rdsamp -r raw/A00004-converted-1s -c -pd > raw/A00004-converted-1s.csv`\n",
    "\n",
    "-> gnuplot image - this can be image received from user: \n",
    "```\n",
    "gnuplot -e \"fileIn='raw/A00004-converted-1s.csv'; fileOut='raw/A00004-converted-1s.png'\" csv2img.gnuplot\n",
    "```\n",
    "\n",
    "-> csv: `python img2csv.py \"/Users/truongnm/coding/cnn/ecg/ecg-process/raw/A00004-converted-1s.png\"`\n",
    "\n",
    "-> signal: `wrsamp -i raw/A00004-converted-1s-from-user.csv -o raw/A00004-converted-1s-from-user -G 1000 -F 300 -z`\n",
    "\n",
    "-> MAT: `wfdb2mat -r raw/A00004-converted-1s-from-user`\n",
    "\n",
    "-> test:"
   ]
  },
  {
   "cell_type": "code",
   "execution_count": 20,
   "metadata": {},
   "outputs": [],
   "source": [
    "signal_path = os.path.expanduser(\"~\")+\"/coding/cnn/DeepECG/raw/A00004-converted-1s-from-userm.hea\"\n",
    "predict_eds = EcgDataset(path=signal_path, no_ext=True, sort=True)\n",
    "predict_ppl = (predict_eds >> template_predict_ppl).run()"
   ]
  },
  {
   "cell_type": "code",
   "execution_count": 21,
   "metadata": {
    "scrolled": true
   },
   "outputs": [
    {
     "data": {
      "text/plain": [
       "[{'target_pred': {'A': 0.021675685, 'NO': 0.9783243},\n",
       "  'uncertainty': 0.0073926448822021484}]"
      ]
     },
     "execution_count": 21,
     "metadata": {},
     "output_type": "execute_result"
    }
   ],
   "source": [
    "predict_ppl.get_variable(\"predictions_list\")"
   ]
  },
  {
   "cell_type": "markdown",
   "metadata": {},
   "source": [
    "Attempt to predict from image which generated from full csv:\n",
    "-> full csv: `rdsamp -r raw/A00004-converted -c -pd > raw/A00004-converted.csv`\n",
    "\n",
    "-> Gnuplot:\n",
    "```\n",
    "gnuplot -e \"fileIn='raw/A00004-converted.csv'; fileOut='raw/A00004.png'\" csv2img.gnuplot\n",
    "```\n",
    "-> csv: `python img2csv.py \"/Users/truongnm/coding/cnn/ecg/ecg-process/raw/A00004.png\"`\n",
    "\n",
    "-> signal: `wrsamp -i raw/A00004-from-user.csv -o raw/A00004-from-user -G 1000 -F 300 -z`\n",
    "\n",
    "-> MAT: `wfdb2mat -r raw/A00004-from-user`\n",
    "\n",
    "-> test:\n"
   ]
  },
  {
   "cell_type": "code",
   "execution_count": 22,
   "metadata": {},
   "outputs": [],
   "source": [
    "signal_path = os.path.expanduser(\"~\")+\"/coding/cnn/DeepECG/raw/A00004-from-userm.hea\"\n",
    "predict_eds = EcgDataset(path=signal_path, no_ext=True, sort=True)\n",
    "predict_ppl = (predict_eds >> template_predict_ppl).run()"
   ]
  },
  {
   "cell_type": "code",
   "execution_count": 23,
   "metadata": {},
   "outputs": [
    {
     "data": {
      "text/plain": [
       "[{'target_pred': {'A': 0.021675652, 'NO': 0.97832435},\n",
       "  'uncertainty': 0.007392406463623047}]"
      ]
     },
     "execution_count": 23,
     "metadata": {},
     "output_type": "execute_result"
    }
   ],
   "source": [
    "predict_ppl.get_variable(\"predictions_list\")"
   ]
  },
  {
   "cell_type": "code",
   "execution_count": null,
   "metadata": {},
   "outputs": [],
   "source": []
  }
 ],
 "metadata": {
  "kernelspec": {
   "display_name": "Python 3",
   "language": "python",
   "name": "python3"
  },
  "language_info": {
   "codemirror_mode": {
    "name": "ipython",
    "version": 3
   },
   "file_extension": ".py",
   "mimetype": "text/x-python",
   "name": "python",
   "nbconvert_exporter": "python",
   "pygments_lexer": "ipython3",
   "version": "3.6.5"
  }
 },
 "nbformat": 4,
 "nbformat_minor": 2
}
