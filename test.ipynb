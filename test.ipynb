{
 "cells": [
  {
   "cell_type": "code",
   "execution_count": 1,
   "metadata": {},
   "outputs": [
    {
     "name": "stderr",
     "output_type": "stream",
     "text": [
      "/anaconda3/envs/tensorflow/lib/python3.6/site-packages/h5py/__init__.py:36: FutureWarning: Conversion of the second argument of issubdtype from `float` to `np.floating` is deprecated. In future, it will be treated as `np.float64 == np.dtype(float).type`.\n",
      "  from ._conv import register_converters as _register_converters\n",
      "/anaconda3/envs/tensorflow/lib/python3.6/site-packages/dicom/__init__.py:53: UserWarning: \n",
      "This code is using an older version of pydicom, which is no longer \n",
      "maintained as of Jan 2017.  You can access the new pydicom features and API \n",
      "by installing `pydicom` from PyPI.\n",
      "See 'Transitioning to pydicom 1.x' section at pydicom.readthedocs.org \n",
      "for more information.\n",
      "\n",
      "  warnings.warn(msg)\n",
      "Using TensorFlow backend.\n"
     ]
    }
   ],
   "source": [
    "import os\n",
    "import sys\n",
    "from functools import partial\n",
    "\n",
    "import numpy as np\n",
    "import tensorflow as tf\n",
    "from scipy.stats import beta\n",
    "\n",
    "sys.path.append(os.path.join(\"..\", \"..\", \"..\"))\n",
    "import cardio.dataset as ds\n",
    "from cardio import EcgDataset\n",
    "from cardio.dataset import B, V, F\n",
    "from cardio.models.dirichlet_model import DirichletModel, concatenate_ecg_batch\n",
    "from cardio.models.metrics import f1_score, classification_report, confusion_matrix"
   ]
  },
  {
   "cell_type": "code",
   "execution_count": 8,
   "metadata": {},
   "outputs": [],
   "source": [
    "MODEL_PATH = os.path.expanduser(\"~\")+\"/coding/cnn/DeepECG/dirichlet_model\"\n",
    "\n",
    "BATCH_SIZE = 100"
   ]
  },
  {
   "cell_type": "code",
   "execution_count": 9,
   "metadata": {},
   "outputs": [],
   "source": [
    "gpu_options = tf.GPUOptions(per_process_gpu_memory_fraction=0.5, allow_growth=True)\n",
    "\n",
    "model_config = {\n",
    "    \"session\": {\"config\": tf.ConfigProto(gpu_options=gpu_options)},\n",
    "    \"build\": False,\n",
    "    \"load\": {\"path\": MODEL_PATH},\n",
    "}"
   ]
  },
  {
   "cell_type": "code",
   "execution_count": 10,
   "metadata": {},
   "outputs": [
    {
     "name": "stdout",
     "output_type": "stream",
     "text": [
      "INFO:tensorflow:Restoring parameters from /Users/truongnm/coding/cnn/DeepECG/dirichlet_model/model-26000\n"
     ]
    }
   ],
   "source": [
    "template_predict_ppl = (\n",
    "    ds.Pipeline()\n",
    "      .init_model(\"static\", DirichletModel, name=\"dirichlet\", config=model_config)\n",
    "      .init_variable(\"predictions_list\", init_on_each_run=list)\n",
    "      .load(fmt=\"wfdb\", components=[\"signal\", \"meta\"])\n",
    "      .flip_signals()\n",
    "      .split_signals(2048, 2048)\n",
    "      .predict_model(\"dirichlet\", make_data=partial(concatenate_ecg_batch, return_targets=False),\n",
    "                     fetches=\"predictions\", save_to=V(\"predictions_list\"), mode=\"e\")\n",
    "      .run(batch_size=BATCH_SIZE, shuffle=False, drop_last=False, n_epochs=1, lazy=True)\n",
    ")"
   ]
  },
  {
   "cell_type": "markdown",
   "metadata": {},
   "source": [
    "Original file"
   ]
  },
  {
   "cell_type": "code",
   "execution_count": 13,
   "metadata": {},
   "outputs": [],
   "source": [
    "signal_path = os.path.expanduser(\"~\")+\"/coding/cnn/ecg/ecg-process/raw/A00001.hea\"\n",
    "predict_eds = EcgDataset(path=signal_path, no_ext=True, sort=True)\n",
    "predict_ppl = (predict_eds >> template_predict_ppl).run()"
   ]
  },
  {
   "cell_type": "code",
   "execution_count": 14,
   "metadata": {},
   "outputs": [
    {
     "data": {
      "text/plain": [
       "[{'target_pred': {'A': 0.021257801, 'NO': 0.97874224},\n",
       "  'uncertainty': 0.007573604583740234}]"
      ]
     },
     "execution_count": 14,
     "metadata": {},
     "output_type": "execute_result"
    }
   ],
   "source": [
    "predict_ppl.get_variable(\"predictions_list\")"
   ]
  },
  {
   "cell_type": "markdown",
   "metadata": {},
   "source": [
    "MAT -> csv -> MAT file"
   ]
  },
  {
   "cell_type": "code",
   "execution_count": 18,
   "metadata": {},
   "outputs": [],
   "source": [
    "signal_path = os.path.expanduser(\"~\")+\"/coding/cnn/ecg/ecg-process/raw/A00001-convertedm.hea\"\n",
    "predict_eds = EcgDataset(path=signal_path, no_ext=True, sort=True)\n",
    "predict_ppl = (predict_eds >> template_predict_ppl).run()"
   ]
  },
  {
   "cell_type": "code",
   "execution_count": 19,
   "metadata": {},
   "outputs": [
    {
     "data": {
      "text/plain": [
       "[{'target_pred': {'A': 0.021257801, 'NO': 0.97874224},\n",
       "  'uncertainty': 0.007573604583740234}]"
      ]
     },
     "execution_count": 19,
     "metadata": {},
     "output_type": "execute_result"
    }
   ],
   "source": [
    "predict_ppl.get_variable(\"predictions_list\")"
   ]
  },
  {
   "cell_type": "markdown",
   "metadata": {},
   "source": [
    "DB MAT file -> csv -> signal -> csv 250 lines (1s) -> signal -> MAT file -> test"
   ]
  },
  {
   "cell_type": "code",
   "execution_count": 20,
   "metadata": {},
   "outputs": [],
   "source": [
    "signal_path = os.path.expanduser(\"~\")+\"/coding/cnn/ecg/ecg-process/A00001-converted-1sm.hea\"\n",
    "predict_eds = EcgDataset(path=signal_path, no_ext=True, sort=True)\n",
    "predict_ppl = (predict_eds >> template_predict_ppl).run()"
   ]
  },
  {
   "cell_type": "code",
   "execution_count": 21,
   "metadata": {},
   "outputs": [
    {
     "data": {
      "text/plain": [
       "[{'target_pred': {'A': 0.021675922, 'NO': 0.97832406},\n",
       "  'uncertainty': 0.00739288330078125}]"
      ]
     },
     "execution_count": 21,
     "metadata": {},
     "output_type": "execute_result"
    }
   ],
   "source": [
    "predict_ppl.get_variable(\"predictions_list\")"
   ]
  },
  {
   "cell_type": "markdown",
   "metadata": {},
   "source": [
    "DB MAT file -> csv -> signal -> csv 250 lines (1s) -> \n",
    "gnuplot image - this can be image received from user -> csv 250 lines (1s) -> MAT file -> test"
   ]
  },
  {
   "cell_type": "code",
   "execution_count": 22,
   "metadata": {},
   "outputs": [],
   "source": [
    "signal_path = os.path.expanduser(\"~\")+\"/coding/cnn/ecg/ecg-process/A00001-converted-1s-genfromuserm.hea\"\n",
    "predict_eds = EcgDataset(path=signal_path, no_ext=True, sort=True)\n",
    "predict_ppl = (predict_eds >> template_predict_ppl).run()"
   ]
  },
  {
   "cell_type": "code",
   "execution_count": 23,
   "metadata": {},
   "outputs": [
    {
     "data": {
      "text/plain": [
       "[{'target_pred': {'A': 0.021675922, 'NO': 0.97832406},\n",
       "  'uncertainty': 0.00739288330078125}]"
      ]
     },
     "execution_count": 23,
     "metadata": {},
     "output_type": "execute_result"
    }
   ],
   "source": [
    "predict_ppl.get_variable(\"predictions_list\")"
   ]
  },
  {
   "cell_type": "code",
   "execution_count": null,
   "metadata": {},
   "outputs": [],
   "source": []
  }
 ],
 "metadata": {
  "kernelspec": {
   "display_name": "Python 3",
   "language": "python",
   "name": "python3"
  },
  "language_info": {
   "codemirror_mode": {
    "name": "ipython",
    "version": 3
   },
   "file_extension": ".py",
   "mimetype": "text/x-python",
   "name": "python",
   "nbconvert_exporter": "python",
   "pygments_lexer": "ipython3",
   "version": "3.6.5"
  }
 },
 "nbformat": 4,
 "nbformat_minor": 2
}
