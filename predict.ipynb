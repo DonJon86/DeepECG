{
 "cells": [
  {
   "cell_type": "code",
   "execution_count": null,
   "metadata": {},
   "outputs": [],
   "source": [
    "import os\n",
    "import sys\n",
    "from functools import partial\n",
    "\n",
    "import numpy as np\n",
    "import tensorflow as tf\n",
    "from scipy.stats import beta\n",
    "\n",
    "sys.path.append(os.path.join(\"..\", \"..\", \"..\"))\n",
    "import cardio.dataset as ds\n",
    "from cardio import EcgDataset\n",
    "from cardio.dataset import B, V, F\n",
    "from cardio.models.dirichlet_model import DirichletModel, concatenate_ecg_batch\n",
    "from cardio.models.metrics import f1_score, classification_report, confusion_matrix"
   ]
  },
  {
   "cell_type": "code",
   "execution_count": null,
   "metadata": {},
   "outputs": [],
   "source": [
    "signal_path = os.path.expanduser(\"~\")+\"/coding/cnn/DeepECG/raw/A00001.mat\"\n",
    "# signal_path = sys.argv[1]\n",
    "MODEL_PATH = os.path.expanduser(\"~\")+\"/coding/cnn/DeepECG/dirichlet_model\"\n",
    "BATCH_SIZE = 100"
   ]
  },
  {
   "cell_type": "code",
   "execution_count": null,
   "metadata": {},
   "outputs": [],
   "source": [
    "gpu_options = tf.GPUOptions(per_process_gpu_memory_fraction=0.5, allow_growth=True)\n",
    "\n",
    "model_config = {\n",
    "    \"session\": {\"config\": tf.ConfigProto(gpu_options=gpu_options)},\n",
    "    \"build\": False,\n",
    "    \"load\": {\"path\": MODEL_PATH},\n",
    "}"
   ]
  },
  {
   "cell_type": "code",
   "execution_count": null,
   "metadata": {},
   "outputs": [],
   "source": [
    "template_predict_ppl = (\n",
    "    ds.Pipeline()\n",
    "      .init_model(\"static\", DirichletModel, name=\"dirichlet\", config=model_config)\n",
    "      .init_variable(\"predictions_list\", init_on_each_run=list)\n",
    "      .load(fmt=\"wfdb\", components=[\"signal\", \"meta\"])\n",
    "      .flip_signals()\n",
    "      .split_signals(2048, 2048)\n",
    "      .predict_model(\"dirichlet\", make_data=partial(concatenate_ecg_batch, return_targets=False),\n",
    "                     fetches=\"predictions\", save_to=V(\"predictions_list\"), mode=\"e\")\n",
    "      .run(batch_size=BATCH_SIZE, shuffle=False, drop_last=False, n_epochs=1, lazy=True)\n",
    ")"
   ]
  },
  {
   "cell_type": "code",
   "execution_count": null,
   "metadata": {},
   "outputs": [],
   "source": [
    "predict_eds = EcgDataset(path=signal_path, no_ext=True, sort=True)\n",
    "predict_ppl = (predict_eds >> template_predict_ppl).run()"
   ]
  },
  {
   "cell_type": "code",
   "execution_count": null,
   "metadata": {},
   "outputs": [],
   "source": [
    "predict_ppl.get_variable(\"predictions_list\")"
   ]
  },
  {
   "cell_type": "code",
   "execution_count": null,
   "metadata": {},
   "outputs": [],
   "source": []
  }
 ],
 "metadata": {
  "kernelspec": {
   "display_name": "Python 3",
   "language": "python",
   "name": "python3"
  },
  "language_info": {
   "codemirror_mode": {
    "name": "ipython",
    "version": 3
   },
   "file_extension": ".py",
   "mimetype": "text/x-python",
   "name": "python",
   "nbconvert_exporter": "python",
   "pygments_lexer": "ipython3",
   "version": "3.6.5"
  }
 },
 "nbformat": 4,
 "nbformat_minor": 2
}
